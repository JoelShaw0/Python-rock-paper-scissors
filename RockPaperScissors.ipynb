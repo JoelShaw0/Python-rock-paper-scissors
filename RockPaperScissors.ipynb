{
 "cells": [
  {
   "cell_type": "code",
   "execution_count": 8,
   "source": [
    "import random\r\n",
    "\r\n",
    "while True:\r\n",
    "    choices = [\"rock\", \"paper\", \"scissors\"]\r\n",
    "\r\n",
    "    computer = random.choice(choices)\r\n",
    "    player = None\r\n",
    "\r\n",
    "    while player not in choices:\r\n",
    "        player = input(\"rock, paper, or scissors?: \").lower()\r\n",
    "\r\n",
    "    if player == computer:\r\n",
    "        print(\"computer: \",computer)\r\n",
    "        print(\"player: \",player)\r\n",
    "        print(\"Tie!\")\r\n",
    "    elif player == \"rock\":\r\n",
    "        if computer == \"paper\":\r\n",
    "            print(\"computer: \",computer)\r\n",
    "            print(\"player: \",player)\r\n",
    "            print(\"You Lose!\")\r\n",
    "        if computer == \"scissors\":\r\n",
    "            print(\"computer: \",computer)\r\n",
    "            print(\"player: \",player)\r\n",
    "            print(\"You Win!\")\r\n",
    "    elif player == \"scissors\":\r\n",
    "        if computer == \"rock\":\r\n",
    "            print(\"computer: \",computer)\r\n",
    "            print(\"player: \",player)\r\n",
    "            print(\"You Lose!\")\r\n",
    "        if computer == \"paper\":\r\n",
    "            print(\"computer: \",computer)\r\n",
    "            print(\"player: \",player)\r\n",
    "            print(\"You Win!\")\r\n",
    "    elif player == \"paper\":\r\n",
    "        if computer == \"scissors\":\r\n",
    "            print(\"computer: \",computer)\r\n",
    "            print(\"player: \",player)\r\n",
    "            print(\"You Lose!\")\r\n",
    "        if computer == \"rock\":\r\n",
    "            print(\"computer: \",computer)\r\n",
    "            print(\"player: \",player)\r\n",
    "            print(\"You Win!\")\r\n",
    "    play_again = input(\"Play again? (yes/no)\").lower()\r\n",
    "\r\n",
    "    if play_again != \"yes\":\r\n",
    "        break\r\n",
    "print(\"Bye!\")"
   ],
   "outputs": [
    {
     "output_type": "stream",
     "name": "stdout",
     "text": [
      "paper\n",
      "computer:  paper\n",
      "player:  rock\n",
      "You Lose!\n"
     ]
    }
   ],
   "metadata": {}
  }
 ],
 "metadata": {
  "orig_nbformat": 4,
  "language_info": {
   "name": "python",
   "version": "3.9.7",
   "mimetype": "text/x-python",
   "codemirror_mode": {
    "name": "ipython",
    "version": 3
   },
   "pygments_lexer": "ipython3",
   "nbconvert_exporter": "python",
   "file_extension": ".py"
  },
  "kernelspec": {
   "name": "python3",
   "display_name": "Python 3.9.7 64-bit (windows store)"
  },
  "interpreter": {
   "hash": "7fddb9115a89db73ab2201619b63588132bfb69036243b4595c55e74eca6c4ad"
  }
 },
 "nbformat": 4,
 "nbformat_minor": 2
}